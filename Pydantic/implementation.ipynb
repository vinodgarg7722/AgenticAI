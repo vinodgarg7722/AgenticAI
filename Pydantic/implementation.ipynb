{
 "cells": [
  {
   "cell_type": "markdown",
   "id": "41ba515b",
   "metadata": {},
   "source": [
    "Pydantic Basics: Creating and Using Models\n",
    "\n",
    "Pydantic models are the foundation of data validation in Python. They use Python type annotations to define the structure and validate data at runtime. Here’s a detailed exploration of basic model creation with several examples."
   ]
  },
  {
   "cell_type": "code",
   "execution_count": 1,
   "id": "48098e10",
   "metadata": {},
   "outputs": [],
   "source": [
    "from pydantic import BaseModel"
   ]
  },
  {
   "cell_type": "code",
   "execution_count": 2,
   "id": "6c523ffa",
   "metadata": {},
   "outputs": [
    {
     "name": "stdout",
     "output_type": "stream",
     "text": [
      "name='Alice' age=30 city='New York'\n"
     ]
    }
   ],
   "source": [
    "class Person(BaseModel):\n",
    "    name: str\n",
    "    age: int\n",
    "    city: str\n",
    "\n",
    "person=Person(name=\"Alice\", age=30, city=\"New York\")\n",
    "print(person)    "
   ]
  },
  {
   "cell_type": "code",
   "execution_count": 3,
   "id": "dd2b5e49",
   "metadata": {},
   "outputs": [
    {
     "data": {
      "text/plain": [
       "__main__.Person"
      ]
     },
     "execution_count": 3,
     "metadata": {},
     "output_type": "execute_result"
    }
   ],
   "source": [
    "type(person)"
   ]
  },
  {
   "cell_type": "code",
   "execution_count": 4,
   "id": "800c72f2",
   "metadata": {},
   "outputs": [],
   "source": [
    "from dataclasses import dataclass\n",
    "\n",
    "@dataclass\n",
    "\n",
    "class Person1():\n",
    "    name: str\n",
    "    age: int\n",
    "    city: str\n",
    "\n",
    "person1=Person1(name=\"Bob\", age=25, city=\"Los Angeles\")   "
   ]
  },
  {
   "cell_type": "code",
   "execution_count": 7,
   "id": "906e52a2",
   "metadata": {},
   "outputs": [
    {
     "name": "stdout",
     "output_type": "stream",
     "text": [
      "Person1(name='Bob', age='25', city=25)\n",
      "<class '__main__.Person1'>\n"
     ]
    }
   ],
   "source": [
    "withoutpydantic=Person1(name=\"Bob\", age=\"25\", city=25)\n",
    "print(withoutpydantic)\n",
    "print(type(withoutpydantic))\n",
    "\n"
   ]
  },
  {
   "cell_type": "code",
   "execution_count": 8,
   "id": "d3329b1e",
   "metadata": {},
   "outputs": [
    {
     "ename": "ValidationError",
     "evalue": "1 validation error for Person\ncity\n  Input should be a valid string [type=string_type, input_value=25, input_type=int]\n    For further information visit https://errors.pydantic.dev/2.12/v/string_type",
     "output_type": "error",
     "traceback": [
      "\u001b[31m---------------------------------------------------------------------------\u001b[39m",
      "\u001b[31mValidationError\u001b[39m                           Traceback (most recent call last)",
      "\u001b[36mCell\u001b[39m\u001b[36m \u001b[39m\u001b[32mIn[8]\u001b[39m\u001b[32m, line 1\u001b[39m\n\u001b[32m----> \u001b[39m\u001b[32m1\u001b[39m withpydantic=\u001b[43mPerson\u001b[49m\u001b[43m(\u001b[49m\u001b[43mname\u001b[49m\u001b[43m=\u001b[49m\u001b[33;43m\"\u001b[39;49m\u001b[33;43mBob\u001b[39;49m\u001b[33;43m\"\u001b[39;49m\u001b[43m,\u001b[49m\u001b[43m \u001b[49m\u001b[43mage\u001b[49m\u001b[43m=\u001b[49m\u001b[33;43m\"\u001b[39;49m\u001b[33;43m25\u001b[39;49m\u001b[33;43m\"\u001b[39;49m\u001b[43m,\u001b[49m\u001b[43m \u001b[49m\u001b[43mcity\u001b[49m\u001b[43m=\u001b[49m\u001b[32;43m25\u001b[39;49m\u001b[43m)\u001b[49m\n\u001b[32m      2\u001b[39m \u001b[38;5;28mprint\u001b[39m(withpydantic)\n\u001b[32m      3\u001b[39m \u001b[38;5;28mprint\u001b[39m(\u001b[38;5;28mtype\u001b[39m(withpydantic))\n",
      "\u001b[36mFile \u001b[39m\u001b[32me:\\AgenticAI\\.venv\\Lib\\site-packages\\pydantic\\main.py:250\u001b[39m, in \u001b[36mBaseModel.__init__\u001b[39m\u001b[34m(self, **data)\u001b[39m\n\u001b[32m    248\u001b[39m \u001b[38;5;66;03m# `__tracebackhide__` tells pytest and some other tools to omit this function from tracebacks\u001b[39;00m\n\u001b[32m    249\u001b[39m __tracebackhide__ = \u001b[38;5;28;01mTrue\u001b[39;00m\n\u001b[32m--> \u001b[39m\u001b[32m250\u001b[39m validated_self = \u001b[38;5;28;43mself\u001b[39;49m\u001b[43m.\u001b[49m\u001b[43m__pydantic_validator__\u001b[49m\u001b[43m.\u001b[49m\u001b[43mvalidate_python\u001b[49m\u001b[43m(\u001b[49m\u001b[43mdata\u001b[49m\u001b[43m,\u001b[49m\u001b[43m \u001b[49m\u001b[43mself_instance\u001b[49m\u001b[43m=\u001b[49m\u001b[38;5;28;43mself\u001b[39;49m\u001b[43m)\u001b[49m\n\u001b[32m    251\u001b[39m \u001b[38;5;28;01mif\u001b[39;00m \u001b[38;5;28mself\u001b[39m \u001b[38;5;129;01mis\u001b[39;00m \u001b[38;5;129;01mnot\u001b[39;00m validated_self:\n\u001b[32m    252\u001b[39m     warnings.warn(\n\u001b[32m    253\u001b[39m         \u001b[33m'\u001b[39m\u001b[33mA custom validator is returning a value other than `self`.\u001b[39m\u001b[38;5;130;01m\\n\u001b[39;00m\u001b[33m'\u001b[39m\n\u001b[32m    254\u001b[39m         \u001b[33m\"\u001b[39m\u001b[33mReturning anything other than `self` from a top level model validator isn\u001b[39m\u001b[33m'\u001b[39m\u001b[33mt supported when validating via `__init__`.\u001b[39m\u001b[38;5;130;01m\\n\u001b[39;00m\u001b[33m\"\u001b[39m\n\u001b[32m    255\u001b[39m         \u001b[33m'\u001b[39m\u001b[33mSee the `model_validator` docs (https://docs.pydantic.dev/latest/concepts/validators/#model-validators) for more details.\u001b[39m\u001b[33m'\u001b[39m,\n\u001b[32m    256\u001b[39m         stacklevel=\u001b[32m2\u001b[39m,\n\u001b[32m    257\u001b[39m     )\n",
      "\u001b[31mValidationError\u001b[39m: 1 validation error for Person\ncity\n  Input should be a valid string [type=string_type, input_value=25, input_type=int]\n    For further information visit https://errors.pydantic.dev/2.12/v/string_type"
     ]
    }
   ],
   "source": [
    "withpydantic=Person(name=\"Bob\", age=\"25\", city=25)\n",
    "print(withpydantic)\n",
    "print(type(withpydantic))"
   ]
  },
  {
   "cell_type": "markdown",
   "id": "7ee1edbc",
   "metadata": {},
   "source": []
  },
  {
   "cell_type": "markdown",
   "id": "2bd1f21e",
   "metadata": {},
   "source": [
    "## 2. Model with Optional Fields\n",
    "\n",
    "Add optional fields using Python's `Optional` type from the `typing` module."
   ]
  },
  {
   "cell_type": "code",
   "execution_count": 14,
   "id": "6ba79b93",
   "metadata": {},
   "outputs": [],
   "source": [
    "from typing import Optional\n",
    "class Employee(BaseModel):\n",
    "    id:int\n",
    "    name: str\n",
    "    department: str\n",
    "    salary: Optional[float] = None #Optional with default vlaue None\n",
    "    is_active: Optional[bool] = True #Optional with default value True"
   ]
  },
  {
   "cell_type": "code",
   "execution_count": 16,
   "id": "f64c148d",
   "metadata": {},
   "outputs": [
    {
     "name": "stdout",
     "output_type": "stream",
     "text": [
      "id=1 name='Charlie' department='HR' salary=None is_active=True\n"
     ]
    }
   ],
   "source": [
    "emp1 = Employee(id=1, name=\"Charlie\", department=\"HR\")\n",
    "print(emp)  #id=1 name='Charlie' department='HR' salary=None is_active=True"
   ]
  },
  {
   "cell_type": "code",
   "execution_count": 18,
   "id": "4ba12280",
   "metadata": {},
   "outputs": [
    {
     "name": "stdout",
     "output_type": "stream",
     "text": [
      "id=2 name='Diana' department='Finance' salary=75000.0 is_active=False\n"
     ]
    }
   ],
   "source": [
    "emp2 = Employee(id=2, name=\"Diana\", department=\"Finance\", salary=75000, is_active=False)\n",
    "print(emp2)  #id=2 name='Diana' department='Finance' salary=75000.0 is_active=False"
   ]
  },
  {
   "cell_type": "markdown",
   "id": "51853a2d",
   "metadata": {},
   "source": [
    "Definition:\n",
    "\n",
    "- Optional[type]: Indicates the field can be None\n",
    "- Default value (= None or = True): Makes the field optional\n",
    "- Required fields must still be provided\n",
    "- Pydantic validates types even for optional fields when values are provided"
   ]
  },
  {
   "cell_type": "code",
   "execution_count": 19,
   "id": "9d72bc79",
   "metadata": {},
   "outputs": [],
   "source": [
    "from pydantic import BaseModel\n",
    "from typing import List\n",
    "\n",
    "class Team(BaseModel):\n",
    "    room_number : str\n",
    "    students : List[str]\n",
    "    capacity : int"
   ]
  },
  {
   "cell_type": "code",
   "execution_count": 20,
   "id": "00bd7c04",
   "metadata": {},
   "outputs": [
    {
     "name": "stdout",
     "output_type": "stream",
     "text": [
      "room_number='101A' students=['Alice', 'Bob', 'Charlie'] capacity=30\n"
     ]
    }
   ],
   "source": [
    "tream = Team(room_number=\"101A\", \n",
    "             students=[\"Alice\", \"Bob\", \"Charlie\"], \n",
    "             capacity=30)\n",
    "\n",
    "print(tream)"
   ]
  },
  {
   "cell_type": "code",
   "execution_count": 21,
   "id": "c250e914",
   "metadata": {},
   "outputs": [
    {
     "name": "stdout",
     "output_type": "stream",
     "text": [
      "room_number='101A' students=['Alice', 'Bob', 'Charlie'] capacity=30\n"
     ]
    }
   ],
   "source": [
    "tream1 = Team(room_number=\"101A\", \n",
    "             students=(\"Alice\", \"Bob\", \"Charlie\"), \n",
    "             capacity=30)\n",
    "\n",
    "print(tream) #typcasting #tuple to list"
   ]
  },
  {
   "cell_type": "code",
   "execution_count": 24,
   "id": "13cafdde",
   "metadata": {},
   "outputs": [
    {
     "name": "stdout",
     "output_type": "stream",
     "text": [
      "Validation Error: 1 validation error for Team\n",
      "students.1\n",
      "  Input should be a valid string [type=string_type, input_value=1233, input_type=int]\n",
      "    For further information visit https://errors.pydantic.dev/2.12/v/string_type\n"
     ]
    }
   ],
   "source": [
    "try:\n",
    "    invalid_val = Team(room_number=\"102B\",students=[\"Dave\", 1233], capacity=30)\n",
    "except ValueError as e:\n",
    "    print(\"Validation Error:\", e)\n"
   ]
  },
  {
   "cell_type": "markdown",
   "id": "df1fcbb0",
   "metadata": {},
   "source": [
    "## Model with Nested Models \n",
    "\n",
    "create complex structures with nested models:"
   ]
  },
  {
   "cell_type": "code",
   "execution_count": 25,
   "id": "53fc7c00",
   "metadata": {},
   "outputs": [
    {
     "name": "stdout",
     "output_type": "stream",
     "text": [
      "customer_id=1 name='Emma' address=Address(street='123 Main St', city='Boston', zip_code=2108)\n"
     ]
    }
   ],
   "source": [
    "from pydantic import BaseModel\n",
    "\n",
    "class Address(BaseModel):\n",
    "    street: str\n",
    "    city: str\n",
    "    zip_code: int\n",
    "\n",
    "class Customer(BaseModel):\n",
    "    customer_id: int\n",
    "    name: str\n",
    "    address: Address  # Nested model\n",
    "\n",
    "# Create a customer with nested address\n",
    "customer = Customer(\n",
    "    customer_id=1,\n",
    "    name=\"Emma\",\n",
    "    address={\"street\": \"123 Main St\", \"city\": \"Boston\", \"zip_code\": \"02108\"}\n",
    ")\n",
    "print(customer)"
   ]
  },
  {
   "cell_type": "markdown",
   "id": "7d6ab84a",
   "metadata": {},
   "source": [
    "#### Pydantic Fields: Customization and Constraints\n",
    "\n",
    "The Field function in Pydantic enhances model fields beyond basic type hints by allowing you to specify validation rules, default values, aliases, and more. Here's a comprehensive tutorial with examples.\n",
    "\n",
    "\n",
    "\n"
   ]
  },
  {
   "cell_type": "code",
   "execution_count": 26,
   "id": "5396d09f",
   "metadata": {},
   "outputs": [
    {
     "name": "stdout",
     "output_type": "stream",
     "text": [
      "name='Book' price=10.0 quantity=10\n"
     ]
    }
   ],
   "source": [
    "from pydantic import BaseModel,Field\n",
    "class Item(BaseModel):\n",
    "    name:str=Field(min_length=2,max_length=50)\n",
    "    price:float= Field(gt=0,le=1000) #greater than 0, less than or equal to 1000\n",
    "    quantity:int=Field(ge=0)\n",
    "\n",
    "# Valid instance\n",
    "item = Item(name=\"Book\", price=10, quantity=10)\n",
    "\n",
    "print(item)\n"
   ]
  },
  {
   "cell_type": "code",
   "execution_count": 28,
   "id": "679ba595",
   "metadata": {},
   "outputs": [],
   "source": [
    "# item2 =Item(name=\"A\", price=-5, quantity=-1) # ValidationError"
   ]
  },
  {
   "cell_type": "code",
   "execution_count": 29,
   "id": "3debdc44",
   "metadata": {},
   "outputs": [
    {
     "name": "stdout",
     "output_type": "stream",
     "text": [
      "username='alice' age=18 email='user@example.com'\n",
      "username='bob' age=25 email='bob@domain.com'\n"
     ]
    }
   ],
   "source": [
    "from pydantic import BaseModel, Field\n",
    "\n",
    "class User(BaseModel):\n",
    "    username: str = Field(..., description=\"Unique username for the user\")\n",
    "    age: int = Field(default=18, description=\"User age, defaults to 18\")\n",
    "    email: str = Field(default_factory=lambda: \"user@example.com\", description=\"Default email address\")\n",
    "\n",
    "# Examples\n",
    "user1 = User(username=\"alice\")\n",
    "print(user1)  # username='alice' age=18 email='user@example.com'\n",
    "\n",
    "user2 = User(username=\"bob\", age=25, email=\"bob@domain.com\")\n",
    "print(user2)  # username='bob' age=25 email='bob@domain.com'"
   ]
  },
  {
   "cell_type": "code",
   "execution_count": 32,
   "id": "127d84c9",
   "metadata": {},
   "outputs": [
    {
     "name": "stdout",
     "output_type": "stream",
     "text": [
      "username='bob' age=30 email='user@example.com'\n",
      "username='bob' age=18 email='user@example.com'\n"
     ]
    }
   ],
   "source": [
    "user3 = User(username=\"bob\", age=30)\n",
    "print(user3)\n",
    "user4 = User(username=\"bob\")\n",
    "print(user4)"
   ]
  },
  {
   "cell_type": "code",
   "execution_count": 33,
   "id": "5850bab0",
   "metadata": {},
   "outputs": [
    {
     "name": "stdout",
     "output_type": "stream",
     "text": [
      "{'properties': {'username': {'description': 'Unique username for the user', 'title': 'Username', 'type': 'string'}, 'age': {'default': 18, 'description': 'User age, defaults to 18', 'title': 'Age', 'type': 'integer'}, 'email': {'description': 'Default email address', 'title': 'Email', 'type': 'string'}}, 'required': ['username'], 'title': 'User', 'type': 'object'}\n"
     ]
    },
    {
     "name": "stderr",
     "output_type": "stream",
     "text": [
      "C:\\Users\\vinod\\AppData\\Local\\Temp\\ipykernel_17524\\275923770.py:1: PydanticDeprecatedSince20: The `schema` method is deprecated; use `model_json_schema` instead. Deprecated in Pydantic V2.0 to be removed in V3.0. See Pydantic V2 Migration Guide at https://errors.pydantic.dev/2.12/migration/\n",
      "  print(User.schema())\n"
     ]
    }
   ],
   "source": [
    "print(User.schema())"
   ]
  },
  {
   "cell_type": "code",
   "execution_count": null,
   "id": "66602062",
   "metadata": {},
   "outputs": [],
   "source": []
  }
 ],
 "metadata": {
  "kernelspec": {
   "display_name": ".venv (3.11.9)",
   "language": "python",
   "name": "python3"
  },
  "language_info": {
   "codemirror_mode": {
    "name": "ipython",
    "version": 3
   },
   "file_extension": ".py",
   "mimetype": "text/x-python",
   "name": "python",
   "nbconvert_exporter": "python",
   "pygments_lexer": "ipython3",
   "version": "3.11.9"
  }
 },
 "nbformat": 4,
 "nbformat_minor": 5
}
